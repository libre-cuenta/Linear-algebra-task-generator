{
 "cells": [
  {
   "cell_type": "markdown",
   "metadata": {},
   "source": [
    "# импорт библиотек и генераторов заданий"
   ]
  },
  {
   "cell_type": "code",
   "execution_count": 2,
   "metadata": {},
   "outputs": [],
   "source": [
    "import numpy as np\n",
    "from task1 import *\n",
    "from task2 import *\n",
    "from task3 import *\n",
    "from task4 import *\n",
    "from task5 import *"
   ]
  },
  {
   "cell_type": "markdown",
   "metadata": {},
   "source": [
    "# генерация заданий в формате Latex"
   ]
  },
  {
   "cell_type": "code",
   "execution_count": 3,
   "metadata": {},
   "outputs": [
    {
     "data": {
      "text/plain": [
       "('A=\\\\left(\\\\begin{matrix}2&3\\\\\\\\1&3\\\\\\\\7&1\\\\end{matrix}\\\\right),',\n",
       " 'B=\\\\left(\\\\begin{matrix}6&1&1\\\\end{matrix}\\\\right),',\n",
       " 'BA=\\\\left(\\\\begin{matrix}20&22\\\\end{matrix}\\\\right)')"
      ]
     },
     "execution_count": 3,
     "metadata": {},
     "output_type": "execute_result"
    }
   ],
   "source": [
    "res1 = gen_task_1((3,2), (1,3), (1, 9))\n",
    "res1"
   ]
  },
  {
   "cell_type": "code",
   "execution_count": 4,
   "metadata": {},
   "outputs": [
    {
     "data": {
      "text/plain": [
       "('  2x_1 + x_2 + x_3 = 2\\n x_1 + 2x_2 + 2x_3 = 1\\n x_1 + x_2 + 2x_3 = 1\\n',\n",
       " '\\nΔ = 3.0\\nΔ₃ = 0.0\\nx₃ = 0.0/3.0')"
      ]
     },
     "execution_count": 4,
     "metadata": {},
     "output_type": "execute_result"
    }
   ],
   "source": [
    "res2 = gen_task_2((3, 3), (1, 3), 2)\n",
    "res2"
   ]
  },
  {
   "cell_type": "code",
   "execution_count": 5,
   "metadata": {},
   "outputs": [
    {
     "data": {
      "text/plain": [
       "('  2x_1 + x_2 + 2x_3 = 1\\n x_1 + 4x_2 + 2x_3 = 3\\n 3x_1 + x_2 + 2x_3 = 2\\n',\n",
       " 'A^{-1}= \\\\left(\\\\begin{matrix}-1.0&0.0&1.0\\\\\\\\-0.66667&0.33333&0.33333\\\\\\\\1.83333&-0.16667&-1.16667\\\\end{matrix}\\\\right) \\n',\n",
       " 'X= \\\\left(\\\\begin{matrix}1.0 \\\\\\\\ 0.99998 \\\\\\\\ -1.00002\\\\end{matrix}\\\\right)')"
      ]
     },
     "execution_count": 5,
     "metadata": {},
     "output_type": "execute_result"
    }
   ],
   "source": [
    "res3 = gen_task_3((3, 3), (1, 5))\n",
    "res3"
   ]
  },
  {
   "cell_type": "code",
   "execution_count": 6,
   "metadata": {},
   "outputs": [
    {
     "data": {
      "text/plain": [
       "('\\\\left(\\\\begin{matrix}6&4&4\\\\\\\\6&3&7\\\\\\\\6&1&3\\\\end{matrix}\\\\right)∙X∙\\\\left(\\\\begin{matrix}1&1&4\\\\\\\\6&4&2\\\\\\\\2&8&6\\\\end{matrix}\\\\right)=\\\\left(\\\\begin{matrix}4&3&1\\\\\\\\2&2&3\\\\\\\\1&7&3\\\\end{matrix}\\\\right) \\n',\n",
       " 'A^{-1}=\\\\left(\\\\begin{matrix}0.03333&-0.13333&0.26667\\\\\\\\0.4&-0.1&-0.3\\\\\\\\-0.2&0.3&-0.1\\\\end{matrix}\\\\right)\\n',\n",
       " 'B^{-1}=\\\\left(\\\\begin{matrix}0.05882&0.19118&-0.10294\\\\\\\\-0.23529&-0.01471&0.16176\\\\\\\\0.29412&-0.04412&-0.01471\\\\end{matrix}\\\\right)\\n',\n",
       " 'X=\\\\left(\\\\begin{matrix}-0.2647&-0.01864&0.2549\\\\\\\\0.08822&0.26178&-0.2794\\\\\\\\0.26471&-0.0647&-0.08823\\\\end{matrix}\\\\right)\\n')"
      ]
     },
     "execution_count": 6,
     "metadata": {},
     "output_type": "execute_result"
    }
   ],
   "source": [
    "res4 = gen_task_4((3, 3), (3, 3), (3, 3), (1, 9))\n",
    "res4"
   ]
  },
  {
   "cell_type": "code",
   "execution_count": 7,
   "metadata": {},
   "outputs": [
    {
     "data": {
      "text/plain": [
       "('  5x_1 + 5x_2 + 7x_3 = 1\\n 7x_1 + 4x_2 + x_3 = 7\\n 3x_1 + 8x_2 + 4x_3 = 6\\n',\n",
       " 'X=C1\\\\left(\\\\begin{matrix}-0.55892 \\\\\\\\ -0.66541 \\\\\\\\ -0.49481\\\\end{matrix}\\\\right)C2\\\\left(\\\\begin{matrix}-0.78123 \\\\\\\\ 0.22251 \\\\\\\\ 0.58324\\\\end{matrix}\\\\right)C3\\\\left(\\\\begin{matrix}-0.27799 \\\\\\\\ 0.71255 \\\\\\\\ -0.6442\\\\end{matrix}\\\\right)\\\\left(\\\\begin{matrix}0.54709 \\\\\\\\ 1.04036 \\\\\\\\ -0.99103\\\\end{matrix}\\\\right)')"
      ]
     },
     "execution_count": 7,
     "metadata": {},
     "output_type": "execute_result"
    }
   ],
   "source": [
    "res5 = gen_task_5((3, 3), (1, 9), 3, 3)\n",
    "res5"
   ]
  },
  {
   "cell_type": "markdown",
   "metadata": {},
   "source": [
    "# Вывод заданий в билет. Формат - docx"
   ]
  },
  {
   "cell_type": "code",
   "execution_count": 8,
   "metadata": {},
   "outputs": [
    {
     "data": {
      "text/plain": [
       "'A=\\\\left(\\\\begin{matrix}2&3\\\\\\\\1&3\\\\\\\\7&1\\\\end{matrix}\\\\right),B=\\\\left(\\\\begin{matrix}6&1&1\\\\end{matrix}\\\\right),BA=\\\\left(\\\\begin{matrix}20&22\\\\end{matrix}\\\\right)'"
      ]
     },
     "execution_count": 8,
     "metadata": {},
     "output_type": "execute_result"
    }
   ],
   "source": [
    "from docx import Document\n",
    "from docx.shared import Pt\n",
    "from docx.shared import Length\n",
    "\n",
    "# latex_formula_1 = '$\\\\begin{pmatrix} x_{11}&x_{12} \\\\\\\\  x_{21}&x_{22} \\end{pmatrix} $'\n",
    "latex_formula_1 = res1[0] + res1[1] + res1[2]\n",
    "latex_formula_2 = res2[0] + res2[1]\n",
    "latex_formula_3 = res3[0] + res3[1] + res3[2]\n",
    "latex_formula_4 = res4[0] + res4[1] + res4[2] + res4[3]\n",
    "latex_formula_5 = res5[0] + res5[1]\n",
    "\n",
    "document = Document()\n",
    "\n",
    "document.add_heading('Линейная алгебра, 1 семестр', level=1)\n",
    "\n",
    "document.add_heading('1. Перемножение двух матриц', level=2)\n",
    "document.add_paragraph(latex_formula_1)\n",
    "document.add_heading('2. СЛАУ методом Крамера', level=2)\n",
    "document.add_paragraph(latex_formula_2)\n",
    "document.add_heading('3. СЛАУ методом обратной матрицы', level=2)\n",
    "document.add_paragraph(latex_formula_3)\n",
    "document.add_heading('4. Матричные уравнения вида AxB=C', level=2)\n",
    "document.add_paragraph(latex_formula_4)\n",
    "document.add_heading('5. СЛАУ методом Гаусса', level=2)\n",
    "document.add_paragraph(latex_formula_5)\n",
    "\n",
    "document.save('Линейная алгебра_1 семестр.docx')\n",
    "latex_formula_1"
   ]
  }
 ],
 "metadata": {
  "kernelspec": {
   "display_name": "Python 3",
   "language": "python",
   "name": "python3"
  },
  "language_info": {
   "codemirror_mode": {
    "name": "ipython",
    "version": 3
   },
   "file_extension": ".py",
   "mimetype": "text/x-python",
   "name": "python",
   "nbconvert_exporter": "python",
   "pygments_lexer": "ipython3",
   "version": "3.11.9"
  }
 },
 "nbformat": 4,
 "nbformat_minor": 2
}
