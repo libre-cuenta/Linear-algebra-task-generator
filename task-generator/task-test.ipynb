{
 "cells": [
  {
   "cell_type": "markdown",
   "metadata": {},
   "source": [
    "# импорт библиотек и генераторов заданий"
   ]
  },
  {
   "cell_type": "code",
   "execution_count": 1,
   "metadata": {},
   "outputs": [],
   "source": [
    "import numpy as np\n",
    "from task1 import *\n",
    "from task2 import *\n",
    "from task3 import *\n",
    "from task4 import *\n",
    "from task5 import *"
   ]
  },
  {
   "cell_type": "markdown",
   "metadata": {},
   "source": [
    "# генерация заданий в формате Latex"
   ]
  },
  {
   "cell_type": "code",
   "execution_count": 2,
   "metadata": {},
   "outputs": [
    {
     "data": {
      "text/plain": [
       "'B=\\\\left(\\\\begin{matrix}8&5&2\\\\end{matrix}\\\\right),'"
      ]
     },
     "execution_count": 2,
     "metadata": {},
     "output_type": "execute_result"
    }
   ],
   "source": [
    "res1 = gen_task_1((3,2), (1,3), (1, 9))\n",
    "res1"
   ]
  },
  {
   "cell_type": "code",
   "execution_count": 3,
   "metadata": {},
   "outputs": [
    {
     "data": {
      "text/plain": [
       "('  x_1 + 2x_2 + x_3 = 1\\n x_1 + x_2 + 2x_3 = 1\\n x_1 + 2x_2 + 2x_3 = 1\\n',\n",
       " '\\nΔ = -1.0\\nΔ₃ = 0.0\\nx₃ = 0.0/-1.0')"
      ]
     },
     "execution_count": 3,
     "metadata": {},
     "output_type": "execute_result"
    }
   ],
   "source": [
    "res2 = gen_task_2((3, 3), (1, 3), 2)\n",
    "res2"
   ]
  },
  {
   "cell_type": "code",
   "execution_count": 4,
   "metadata": {},
   "outputs": [
    {
     "data": {
      "text/plain": [
       "('  2x_1 + 4x_2 + 2x_3 = 4\\n x_1 + x_2 + 4x_3 = 3\\n 2x_1 + 3x_2 + 4x_3 = 1\\n',\n",
       " 'A^{-1}= \\\\left(\\\\begin{matrix}-4.0&-5.0&7.0\\\\\\\\2.0&2.0&-3.0\\\\\\\\0.5&1.0&-1.0\\\\end{matrix}\\\\right) \\n',\n",
       " 'X= \\\\left(\\\\begin{matrix}-24.0 \\\\\\\\ 11.0 \\\\\\\\ 4.0\\\\end{matrix}\\\\right)')"
      ]
     },
     "execution_count": 4,
     "metadata": {},
     "output_type": "execute_result"
    }
   ],
   "source": [
    "res3 = gen_task_3((3, 3), (1, 5))\n",
    "res3"
   ]
  },
  {
   "cell_type": "code",
   "execution_count": 5,
   "metadata": {},
   "outputs": [
    {
     "data": {
      "text/plain": [
       "('\\\\left(\\\\begin{matrix}1&7&2\\\\\\\\6&7&1\\\\\\\\5&7&6\\\\end{matrix}\\\\right)∙X∙\\\\left(\\\\begin{matrix}4&2&6\\\\\\\\7&2&1\\\\\\\\3&6&5\\\\end{matrix}\\\\right)=\\\\left(\\\\begin{matrix}2&8&2\\\\\\\\6&1&6\\\\\\\\4&7&2\\\\end{matrix}\\\\right) \\n',\n",
       " 'A^{-1}=\\\\left(\\\\begin{matrix}-0.20833333333333326&0.16666666666666669&0.04166666666666665\\\\\\\\0.18452380952380948&0.0238095238095238&-0.06547619047619047\\\\\\\\-0.04166666666666667&-0.16666666666666666&0.20833333333333334\\\\end{matrix}\\\\right)',\n",
       " 'B^{-1}=\\\\left(\\\\begin{matrix}0.023809523809523798&0.15476190476190477&-0.059523809523809514\\\\\\\\-0.19047619047619044&0.011904761904761895&0.22619047619047616\\\\\\\\0.21428571428571427&-0.10714285714285714&-0.03571428571428571\\\\end{matrix}\\\\right)',\n",
       " 'X=\\\\left(\\\\begin{matrix}0.39087301587301576&0.030257936507936546&-0.3417658730158729\\\\\\\\-0.1108276643990929&0.010274943310657585&0.20712868480725616\\\\\\\\-0.3313492063492063&0.04414682539682538&0.2554563492063492\\\\end{matrix}\\\\right)')"
      ]
     },
     "execution_count": 5,
     "metadata": {},
     "output_type": "execute_result"
    }
   ],
   "source": [
    "res4 = gen_task_4((3, 3), (3, 3), (3, 3), (1, 9))\n",
    "res4"
   ]
  },
  {
   "cell_type": "code",
   "execution_count": 6,
   "metadata": {},
   "outputs": [
    {
     "data": {
      "text/plain": [
       "('  6x_1 + 6x_2 + 3x_3 = 4\\n 5x_1 + x_2 + 8x_3 = 1\\n 2x_1 + 8x_2 + 8x_3 = 5\\n',\n",
       " 'X=C1\\\\left(\\\\begin{matrix}-0.43858 \\\\\\\\ -0.56556 \\\\\\\\ -0.69843\\\\end{matrix}\\\\right)C2\\\\left(\\\\begin{matrix}0.25491 \\\\\\\\ -0.82352 \\\\\\\\ 0.50678\\\\end{matrix}\\\\right)C3\\\\left(\\\\begin{matrix}0.86178 \\\\\\\\ -0.04422 \\\\\\\\ -0.50535\\\\end{matrix}\\\\right)\\\\left(\\\\begin{matrix}0.06284 \\\\\\\\ 0.59836 \\\\\\\\ 0.01093\\\\end{matrix}\\\\right)')"
      ]
     },
     "execution_count": 6,
     "metadata": {},
     "output_type": "execute_result"
    }
   ],
   "source": [
    "res5 = gen_task_5((3, 3), (1, 9), 3, 3)\n",
    "res5"
   ]
  },
  {
   "cell_type": "markdown",
   "metadata": {},
   "source": [
    "# Вывод заданий в билет. Формат - docx"
   ]
  },
  {
   "cell_type": "code",
   "execution_count": 7,
   "metadata": {},
   "outputs": [
    {
     "data": {
      "text/plain": [
       "'A=\\\\left(\\\\begin{matrix}5&1\\\\\\\\8&2\\\\\\\\7&7\\\\end{matrix}\\\\right),B=\\\\left(\\\\begin{matrix}8&5&2\\\\end{matrix}\\\\right),BA=\\\\left(\\\\begin{matrix}94&32\\\\end{matrix}\\\\right)'"
      ]
     },
     "execution_count": 7,
     "metadata": {},
     "output_type": "execute_result"
    }
   ],
   "source": [
    "from docx import Document\n",
    "from docx.shared import Pt\n",
    "from docx.shared import Length\n",
    "\n",
    "# latex_formula_1 = '$\\\\begin{pmatrix} x_{11}&x_{12} \\\\\\\\  x_{21}&x_{22} \\end{pmatrix} $'\n",
    "latex_formula_1 = res1[0] + res1[1] + res1[2]\n",
    "latex_formula_2 = res2[0] + res2[1]\n",
    "latex_formula_3 = res3[0] + res3[1] + res3[2]\n",
    "latex_formula_4 = res4[0] + res4[1] + res4[2] + res4[3]\n",
    "latex_formula_5 = res5[0] + res5[1]\n",
    "\n",
    "document = Document()\n",
    "\n",
    "document.add_heading('Линейная алгебра, 1 семестр', level=1)\n",
    "\n",
    "document.add_heading('1. Перемножение двух матриц', level=2)\n",
    "document.add_paragraph(latex_formula_1)\n",
    "document.add_heading('2. СЛАУ методом Крамера', level=2)\n",
    "document.add_paragraph(latex_formula_2)\n",
    "document.add_heading('3. СЛАУ методом обратной матрицы', level=2)\n",
    "document.add_paragraph(latex_formula_3)\n",
    "document.add_heading('4. Матричные уравнения вида AxB=C', level=2)\n",
    "document.add_paragraph(latex_formula_4)\n",
    "document.add_heading('5. СЛАУ методом Гаусса', level=2)\n",
    "document.add_paragraph(latex_formula_5)\n",
    "\n",
    "document.save('Линейная алгебра_1 семестр.docx')\n",
    "latex_formula_1"
   ]
  }
 ],
 "metadata": {
  "kernelspec": {
   "display_name": "Python 3",
   "language": "python",
   "name": "python3"
  },
  "language_info": {
   "codemirror_mode": {
    "name": "ipython",
    "version": 3
   },
   "file_extension": ".py",
   "mimetype": "text/x-python",
   "name": "python",
   "nbconvert_exporter": "python",
   "pygments_lexer": "ipython3",
   "version": "3.11.9"
  }
 },
 "nbformat": 4,
 "nbformat_minor": 2
}
