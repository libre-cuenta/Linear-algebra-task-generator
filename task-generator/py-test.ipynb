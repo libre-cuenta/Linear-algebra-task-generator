{
 "cells": [
  {
   "cell_type": "code",
   "execution_count": 1,
   "metadata": {},
   "outputs": [],
   "source": [
    "import numpy as np\n",
    "from task1 import *\n",
    "from task2 import *\n",
    "from task3 import *\n",
    "from task4 import *\n",
    "from task5 import *"
   ]
  },
  {
   "cell_type": "code",
   "execution_count": 2,
   "metadata": {},
   "outputs": [
    {
     "data": {
      "text/plain": [
       "'B=\\\\left(\\\\begin{matrix}1&1&1\\\\end{matrix}\\\\right),'"
      ]
     },
     "execution_count": 2,
     "metadata": {},
     "output_type": "execute_result"
    }
   ],
   "source": [
    "res1 = gen_task_1((3,2), (1,3), (1, 9))\n",
    "res1[1]"
   ]
  },
  {
   "cell_type": "code",
   "execution_count": 3,
   "metadata": {},
   "outputs": [
    {
     "data": {
      "text/plain": [
       "('  x_1 + x_2 + x_3 = 2\\n 2x_1 + 2x_2 + x_3 = 2\\n x_1 + 2x_2 + x_3 = 2\\n',\n",
       " '\\nΔ = 1.0\\nΔ₃ = 2.0\\nx₃ = 2.0/1.0')"
      ]
     },
     "execution_count": 3,
     "metadata": {},
     "output_type": "execute_result"
    }
   ],
   "source": [
    "res2 = gen_task_2((3, 3), (1, 3), 2)\n",
    "res2"
   ]
  },
  {
   "cell_type": "code",
   "execution_count": 4,
   "metadata": {},
   "outputs": [
    {
     "data": {
      "text/plain": [
       "('  x_1 + x_2 + x_3 = 1\\n 3x_1 + x_2 + x_3 = 2\\n 4x_1 + 2x_2 + x_3 = 1\\n',\n",
       " 'A^{-1}= \\\\left(\\\\begin{matrix}-0.5&0.5&0.0\\\\\\\\0.5&-1.5&1.0\\\\\\\\1.0&1.0&-1.0\\\\end{matrix}\\\\right) \\n',\n",
       " 'X= \\\\left(\\\\begin{matrix}0.5 \\\\\\\\ -1.5 \\\\\\\\ 2.0\\\\end{matrix}\\\\right)')"
      ]
     },
     "execution_count": 4,
     "metadata": {},
     "output_type": "execute_result"
    }
   ],
   "source": [
    "res3 = gen_task_3((3, 3), (1, 5))\n",
    "res3"
   ]
  },
  {
   "cell_type": "code",
   "execution_count": 5,
   "metadata": {},
   "outputs": [
    {
     "data": {
      "text/plain": [
       "('\\\\left(\\\\begin{matrix}4&1&2\\\\\\\\4&6&3\\\\\\\\6&1&4\\\\end{matrix}\\\\right)∙X∙\\\\left(\\\\begin{matrix}5&7&4\\\\\\\\6&1&5\\\\\\\\3&7&4\\\\end{matrix}\\\\right)=\\\\left(\\\\begin{matrix}2&8&3\\\\\\\\7&3&4\\\\\\\\8&8&1\\\\end{matrix}\\\\right) \\n',\n",
       " 'A^{-1}=\\\\left(\\\\begin{matrix}0.9545454545454546&-0.0909090909090909&-0.40909090909090917\\\\\\\\0.09090909090909095&0.18181818181818182&-0.18181818181818185\\\\\\\\-1.4545454545454546&0.09090909090909091&0.9090909090909092\\\\end{matrix}\\\\right)',\n",
       " 'B^{-1}=\\\\left(\\\\begin{matrix}0.5&1.850371707708594e-17&-0.5\\\\\\\\0.14516129032258068&-0.12903225806451613&0.016129032258064484\\\\\\\\-0.6290322580645162&0.2258064516129032&0.5967741935483872\\\\end{matrix}\\\\right)',\n",
       " 'X=\\\\left(\\\\begin{matrix}-1.7214076246334313&-0.055718475073313845&2.3137829912023467\\\\\\\\-0.5410557184750736&0.20821114369501464&0.4853372434017599\\\\\\\\3.8504398826979473&-0.17008797653958924&-4.410557184750733\\\\end{matrix}\\\\right)')"
      ]
     },
     "execution_count": 5,
     "metadata": {},
     "output_type": "execute_result"
    }
   ],
   "source": [
    "res4 = gen_task_4((3, 3), (3, 3), (3, 3), (1, 9))\n",
    "res4"
   ]
  },
  {
   "cell_type": "code",
   "execution_count": 6,
   "metadata": {},
   "outputs": [
    {
     "data": {
      "text/plain": [
       "('  3x_1 + 5x_2 + x_3 = 6\\n 5x_1 + 2x_2 + 6x_3 = 4\\n 2x_1 + 3x_2 + 4x_3 = 3\\n',\n",
       " 'X=C1\\\\left(\\\\begin{matrix}-0.57344 \\\\\\\\ -0.49876 \\\\\\\\ -0.64992\\\\end{matrix}\\\\right)C2\\\\left(\\\\begin{matrix}0.02719 \\\\\\\\ -0.80447 \\\\\\\\ 0.59338\\\\end{matrix}\\\\right)C3\\\\left(\\\\begin{matrix}0.81879 \\\\\\\\ -0.3226 \\\\\\\\ -0.47488\\\\end{matrix}\\\\right)\\\\left(\\\\begin{matrix}0.74576 \\\\\\\\ 0.79661 \\\\\\\\ -0.22034\\\\end{matrix}\\\\right)')"
      ]
     },
     "execution_count": 6,
     "metadata": {},
     "output_type": "execute_result"
    }
   ],
   "source": [
    "res5 = gen_task_5((3, 3), (1, 9), 3, 3)\n",
    "res5"
   ]
  },
  {
   "cell_type": "code",
   "execution_count": 7,
   "metadata": {},
   "outputs": [
    {
     "data": {
      "text/plain": [
       "'A=\\\\left(\\\\begin{matrix}3&4\\\\\\\\8&4\\\\\\\\4&1\\\\end{matrix}\\\\right),B=\\\\left(\\\\begin{matrix}1&1&1\\\\end{matrix}\\\\right),BA=\\\\left(\\\\begin{matrix}15&9\\\\end{matrix}\\\\right)'"
      ]
     },
     "execution_count": 7,
     "metadata": {},
     "output_type": "execute_result"
    }
   ],
   "source": [
    "# Вывод заданий в билет. Формат - docx\n",
    "from docx import Document\n",
    "from docx.shared import Pt\n",
    "from docx.shared import Length\n",
    "\n",
    "# latex_formula_1 = '$\\\\begin{pmatrix} x_{11}&x_{12} \\\\\\\\  x_{21}&x_{22} \\end{pmatrix} $'\n",
    "latex_formula_1 = res1[0] + res1[1] + res1[2]\n",
    "latex_formula_2 = res2[0] + res2[1]\n",
    "latex_formula_3 = res3[0] + res3[1] + res3[2]\n",
    "latex_formula_4 = res4[0] + res4[1] + res4[2] + res4[3]\n",
    "latex_formula_5 = res5[0] + res5[1]\n",
    "\n",
    "document = Document()\n",
    "\n",
    "document.add_heading('Линейная алгебра, 1 семестр', level=1)\n",
    "\n",
    "document.add_heading('1. Перемножение двух матриц', level=2)\n",
    "document.add_paragraph(latex_formula_1)\n",
    "document.add_heading('2. СЛАУ методом Крамера', level=2)\n",
    "document.add_paragraph(latex_formula_2)\n",
    "document.add_heading('3. СЛАУ методом обратной матрицы', level=2)\n",
    "document.add_paragraph(latex_formula_3)\n",
    "document.add_heading('4. Матричные уравнения вида AxB=C', level=2)\n",
    "document.add_paragraph(latex_formula_4)\n",
    "document.add_heading('5. СЛАУ методом Гаусса', level=2)\n",
    "document.add_paragraph(latex_formula_5)\n",
    "\n",
    "document.save('docx_file.docx')\n",
    "latex_formula_1"
   ]
  },
  {
   "cell_type": "code",
   "execution_count": 3,
   "metadata": {},
   "outputs": [],
   "source": [
    "from IPython.display import display, Latex\n",
    "import io\n"
   ]
  },
  {
   "cell_type": "code",
   "execution_count": 4,
   "metadata": {},
   "outputs": [
    {
     "data": {
      "text/latex": [
       "$ \\sum_1^n x_i $"
      ],
      "text/plain": [
       "<IPython.core.display.Latex object>"
      ]
     },
     "metadata": {},
     "output_type": "display_data"
    }
   ],
   "source": [
    "i = 1\n",
    "display(Latex(f'$ \\sum_{i}^n x_i $'))"
   ]
  },
  {
   "cell_type": "code",
   "execution_count": 5,
   "metadata": {},
   "outputs": [
    {
     "data": {
      "text/latex": [
       "$\\begin{pmatrix} x_{11}&x_{12} \\\\  x_{21}&x_{22} \\end{pmatrix} $"
      ],
      "text/plain": [
       "<IPython.core.display.Latex object>"
      ]
     },
     "execution_count": 5,
     "metadata": {},
     "output_type": "execute_result"
    }
   ],
   "source": [
    "output = Latex('$\\\\begin{pmatrix} x_{11}&x_{12} \\\\\\\\  x_{21}&x_{22} \\end{pmatrix} $' )\n",
    "output"
   ]
  },
  {
   "cell_type": "code",
   "execution_count": 6,
   "metadata": {},
   "outputs": [
    {
     "data": {
      "text/latex": [
       "$x_0$"
      ],
      "text/plain": [
       "<IPython.core.display.Latex object>"
      ]
     },
     "metadata": {},
     "output_type": "display_data"
    },
    {
     "data": {
      "text/latex": [
       "$x_1$"
      ],
      "text/plain": [
       "<IPython.core.display.Latex object>"
      ]
     },
     "metadata": {},
     "output_type": "display_data"
    },
    {
     "data": {
      "text/latex": [
       "$x_2$"
      ],
      "text/plain": [
       "<IPython.core.display.Latex object>"
      ]
     },
     "metadata": {},
     "output_type": "display_data"
    }
   ],
   "source": [
    "for i in range(3):\n",
    "    display(Latex(f'$x_{i}$'))\n"
   ]
  },
  {
   "cell_type": "code",
   "execution_count": 7,
   "metadata": {},
   "outputs": [
    {
     "data": {
      "text/latex": [
       "$\\begin{pmatrix} x_{11}&x_{12} \\\\  x_{21}&x_{22} \\end{pmatrix} $"
      ],
      "text/plain": [
       "<IPython.core.display.Latex object>"
      ]
     },
     "metadata": {},
     "output_type": "display_data"
    }
   ],
   "source": [
    "latex_formula = '$\\\\begin{pmatrix} x_{11}&x_{12} \\\\\\\\  x_{21}&x_{22} \\end{pmatrix} $'\n",
    "\n",
    "# Сохраняем формулу в файл .tex\n",
    "with open('formula.tex', 'w') as f:\n",
    "    f.write(latex_formula + '\\n')\n",
    "\n",
    "# Выводим формулу в Jupyter Notebook\n",
    "display(Latex(latex_formula))\n"
   ]
  },
  {
   "cell_type": "code",
   "execution_count": 69,
   "metadata": {},
   "outputs": [],
   "source": [
    "import tempfile\n",
    "import os.path\n",
    "import subprocess\n",
    "\n",
    "with tempfile.TemporaryDirectory(prefix=\"texinpy_\") as tmpdir:\n",
    "    path = os.path.join(tmpdir, \"document.tex\")\n",
    "    with open(path, 'w') as fp:\n",
    "        fp.write(r\"\"\"\n",
    "        \\documentclass[12pt]{standalone}\n",
    "        \\begin{document}\n",
    "        \\LaTeX{}\n",
    "        \\end{document}\n",
    "        \"\"\")\n"
   ]
  },
  {
   "cell_type": "code",
   "execution_count": 59,
   "metadata": {},
   "outputs": [],
   "source": [
    "import matplotlib.pyplot as plt\n",
    "\n",
    "# Создание графика\n",
    "fig, ax = plt.subplots()\n",
    "\n",
    "# Пример матрицы\n",
    "matrix = r'''\n",
    "\\begin{matrix}\n",
    "1 & 2 & 3 \\\\\n",
    "4 & 5 & 6 \\\\\n",
    "7 & 8 & 9 \\\\\n",
    "end{matrix}\n",
    "'''\n",
    "\n",
    "# Добавление текста с LaTeX-матрицей\n",
    "ax.text(0.5, 0.5, matrix, fontsize=20, ha='center', va='center')\n",
    "\n",
    "# Убираем оси\n",
    "ax.axis('off')\n",
    "\n",
    "# Сохранение в PDF файл\n",
    "plt.savefig('matrix_output.pdf', bbox_inches='tight')\n",
    "plt.close()  # Закрытие графика для освобождения памяти"
   ]
  },
  {
   "cell_type": "code",
   "execution_count": null,
   "metadata": {},
   "outputs": [],
   "source": []
  }
 ],
 "metadata": {
  "kernelspec": {
   "display_name": "Python 3",
   "language": "python",
   "name": "python3"
  },
  "language_info": {
   "codemirror_mode": {
    "name": "ipython",
    "version": 3
   },
   "file_extension": ".py",
   "mimetype": "text/x-python",
   "name": "python",
   "nbconvert_exporter": "python",
   "pygments_lexer": "ipython3",
   "version": "3.11.9"
  }
 },
 "nbformat": 4,
 "nbformat_minor": 2
}
