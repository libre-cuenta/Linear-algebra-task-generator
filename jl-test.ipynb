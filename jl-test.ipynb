{
 "cells": [
  {
   "cell_type": "code",
   "execution_count": 5,
   "metadata": {},
   "outputs": [
    {
     "name": "stderr",
     "output_type": "stream",
     "text": [
      "[ Info: Julia version info\n"
     ]
    },
    {
     "name": "stdout",
     "output_type": "stream",
     "text": [
      "Julia Version 1.11.2\n",
      "Commit 5e9a32e7af2 (2024-12-01 20:02 UTC)\n",
      "Build Info:\n",
      "  Official https://julialang.org/ release\n",
      "Platform Info:\n",
      "  OS: Linux (x86_64-linux-gnu)\n",
      "      Ubuntu 24.04.1 LTS\n",
      "  uname: Linux 6.11.11-061111-generic #202412051415 SMP PREEMPT_DYNAMIC Thu Dec  5 17:38:13 UTC 2024 x86_64 x86_64\n",
      "  CPU: Intel(R) Core(TM) i7-4510U CPU @ 2.00GHz: \n",
      "              speed         user         nice          sys         idle          irq\n",
      "       #1  2631 MHz      12883 s         58 s       3353 s     132314 s          0 s\n",
      "       #2  2660 MHz      12332 s         39 s       3429 s     133899 s          0 s\n",
      "       #3  2639 MHz      13135 s         47 s       3289 s     131142 s          0 s\n",
      "       #4  2639 MHz      13530 s         23 s       3375 s     132476 s          0 s\n",
      "  Memory: 15.513195037841797 GB (12045.26953125 MB free)\n",
      "  Uptime: 15169.73 sec\n",
      "  Load Avg:  2.96  1.4  0.69\n",
      "  WORD_SIZE: 64\n",
      "  LLVM: libLLVM-16.0.6 (ORCJIT, haswell)\n",
      "Threads: 1 default, 0 interactive, 1 GC (on 4 virtual cores)\n",
      "Environment:\n",
      "  FONTCONFIG_PATH = /etc/fonts\n",
      "  HOME = /home/george\n",
      "  SNAP_LIBRARY_PATH = /var/lib/snapd/lib/gl:/var/lib/snapd/lib/gl32:/var/lib/snapd/void\n",
      "  GTK_PATH = /snap/code/179/usr/lib/x86_64-linux-gnu/gtk-3.0\n",
      "  TERM = xterm-color\n",
      "  PATH = /home/george/VS Code/.venv/bin:/usr/local/sbin:/usr/local/bin:/usr/sbin:/usr/bin:/sbin:/bin:/usr/games:/usr/local/games:/snap/bin:/snap/bin\n",
      "  LOCPATH = /snap/code/179/usr/lib/locale\n",
      "  XDG_DATA_HOME = /home/george/snap/code/179/.local/share\n",
      "  SNAP_REAL_HOME = /home/george\n",
      "  VSCODE_CODE_CACHE_PATH = /home/george/.config/Code/CachedData/fabdb6a30b49f79a7aba0f2ad9df9b399473380f\n"
     ]
    },
    {
     "name": "stderr",
     "output_type": "stream",
     "text": [
      "[ Info: Julia executable: /snap/julia/124/bin/julia\n",
      "[ Info: Trying to import PyCall...\n",
      "┌ Info: PyCall is already installed and compatible with Python executable.\n",
      "│ \n",
      "│ PyCall:\n",
      "│     python: /home/george/VS Code/.venv/bin/python\n",
      "│     libpython: /usr/lib/x86_64-linux-gnu/libpython3.12.so.1.0\n",
      "│ Python:\n",
      "│     python: /home/george/VS Code/.venv/bin/python\n",
      "└     libpython: \n"
     ]
    }
   ],
   "source": [
    "import ipykernel\n",
    "import julia\n",
    "julia.install()\n",
    "from julia import *"
   ]
  },
  {
   "cell_type": "code",
   "execution_count": null,
   "metadata": {},
   "outputs": [],
   "source": []
  }
 ],
 "metadata": {
  "kernelspec": {
   "display_name": ".venv",
   "language": "python",
   "name": "python3"
  },
  "language_info": {
   "codemirror_mode": {
    "name": "ipython",
    "version": 3
   },
   "file_extension": ".py",
   "mimetype": "text/x-python",
   "name": "python",
   "nbconvert_exporter": "python",
   "pygments_lexer": "ipython3",
   "version": "3.12.3"
  }
 },
 "nbformat": 4,
 "nbformat_minor": 2
}
