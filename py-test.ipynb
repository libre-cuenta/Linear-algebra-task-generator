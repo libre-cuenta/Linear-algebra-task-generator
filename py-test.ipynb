{
 "cells": [
  {
   "cell_type": "code",
   "execution_count": 1,
   "metadata": {},
   "outputs": [],
   "source": [
    "import numpy as np\n",
    "from task1 import *\n",
    "from task2 import *\n",
    "from task3 import *\n",
    "from task4 import *\n",
    "from task5 import *"
   ]
  },
  {
   "cell_type": "code",
   "execution_count": 2,
   "metadata": {},
   "outputs": [
    {
     "data": {
      "text/plain": [
       "('A=(■(3&7@5&3@4&8))', 'B=(■(6&2&7))', 'BA=(■(56&104))')"
      ]
     },
     "execution_count": 2,
     "metadata": {},
     "output_type": "execute_result"
    }
   ],
   "source": [
    "gen_task_1((3,2), (1,3), (1, 9))"
   ]
  },
  {
   "cell_type": "code",
   "execution_count": 3,
   "metadata": {},
   "outputs": [
    {
     "data": {
      "text/plain": [
       "('{█(&1.9974866424335718x_1+1.4487819606738312x_2+2.3555181738484805x_3=1.8376721577709811@&2.424305150689973x_1+2.934056246331564x_2+2.346189849755228x_3=2.210160697200207@&2.7967941958414637x_1+1.135171945105361x_2+2.709403794546675x_3=1.832155551600384)┤',\n",
       " 'Δ = -2.29731\\nΔ₃ = -1.77592\\nx₃ = -1.77592/-2.29731')"
      ]
     },
     "execution_count": 3,
     "metadata": {},
     "output_type": "execute_result"
    }
   ],
   "source": [
    "gen_task_2((3, 3), (1, 3), 2)"
   ]
  },
  {
   "cell_type": "code",
   "execution_count": 4,
   "metadata": {},
   "outputs": [
    {
     "data": {
      "text/plain": [
       "('{█(&2x_1+1x_2+2x_3=(4.056039363084572)@&4x_1+3x_2+1x_3=(2.1022631751194174)@&3x_1+2x_2+1x_3=(2.3538375832984197))┤',\n",
       " '(■(-1.0 & -3.0 & 5.0 @ 1.0 & 4.0 & -6.0 @ 1.0 & 1.0 & -2.0 ))',\n",
       " '(■(0.0 @ 0.0 @ 2.0 ))')"
      ]
     },
     "execution_count": 4,
     "metadata": {},
     "output_type": "execute_result"
    }
   ],
   "source": [
    "gen_task_3((3, 3), (1, 5))"
   ]
  },
  {
   "cell_type": "code",
   "execution_count": 5,
   "metadata": {},
   "outputs": [
    {
     "data": {
      "text/plain": [
       "('(■(7.49570090180694 & 4.088643293934567 & 5.276816177445217 @ 2.866310308613582 & 5.182636405235929 & 6.1656611336673945 @ 1.2576124385253582 & 5.195602549295768 & 4.777732586947165 ))∙X∙(■(8.539351305162914 & 8.798812236364197 & 5.877355097274515 @ 4.4354603889611655 & 7.208399675518689 & 8.289604894714051 @ 5.70625306220744 & 6.693941670880069 & 5.896903916646832 ))=(■(6.694504171740583 & 2.0460522633974847 & 8.808635485098215 @ 7.699779285047472 & 6.088991522335007 & 5.100576036786767 @ 1.2163977036158888 & 3.048450032379087 & 1.0083710378230508 ))',\n",
       " '(■(0.18867924528301885 & -0.16981132075471694 & 0.01886792452830185 @ 0.03773584905660375 & -0.43396226415094324 & 0.6037735849056602 @ -0.09433962264150941 & 0.5849056603773584 & -0.5094339622641508 ))',\n",
       " '(■(-12.999999999999908 & -9.99999999999993 & 28.999999999999794 @ 19.999999999999858 & 14.999999999999895 & -43.99999999999969 @ -10.999999999999922 & -7.999999999999943 & 23.99999999999983 ))',\n",
       " '(■(-18.679245283018737 & -13.830188679245188 & 40.94339622641481 @ 28.26415094339602 & 21.433962264150793 & -62.81132075471653 @ -21.660377358490408 & -16.58490566037724 & 48.52830188679209 ))')"
      ]
     },
     "execution_count": 5,
     "metadata": {},
     "output_type": "execute_result"
    }
   ],
   "source": [
    "gen_task_4((3, 3), (3, 3), (3, 3), (1, 9))"
   ]
  },
  {
   "cell_type": "code",
   "execution_count": 6,
   "metadata": {},
   "outputs": [
    {
     "data": {
      "text/plain": [
       "'{█( & 7.361216138864473x_1 + 1.2378804104459347x_2 + 1.6066750284807734x_3=5.777990747169224 @  & 7.495428147924391x_1 + 6.710511118996454x_2 + 2.837998396138733x_3=1.5207476317036193 @  & 6.826617426976523x_1 + 2.1698957917594406x_2 + 6.650613677374023x_3=3.5597703558512706)┤'"
      ]
     },
     "execution_count": 6,
     "metadata": {},
     "output_type": "execute_result"
    }
   ],
   "source": [
    "gen_task_5((3, 3), (1, 9), 3, 3)"
   ]
  },
  {
   "cell_type": "code",
   "execution_count": 7,
   "metadata": {},
   "outputs": [],
   "source": [
    "from IPython.display import display, Latex"
   ]
  },
  {
   "cell_type": "code",
   "execution_count": 8,
   "metadata": {},
   "outputs": [
    {
     "data": {
      "text/latex": [
       "$x_0$"
      ],
      "text/plain": [
       "<IPython.core.display.Latex object>"
      ]
     },
     "metadata": {},
     "output_type": "display_data"
    },
    {
     "data": {
      "text/latex": [
       "$x_1$"
      ],
      "text/plain": [
       "<IPython.core.display.Latex object>"
      ]
     },
     "metadata": {},
     "output_type": "display_data"
    },
    {
     "data": {
      "text/latex": [
       "$x_2$"
      ],
      "text/plain": [
       "<IPython.core.display.Latex object>"
      ]
     },
     "metadata": {},
     "output_type": "display_data"
    }
   ],
   "source": [
    "for i in range(3):\n",
    "    display(Latex(f'$x_{i}$'))\n"
   ]
  }
 ],
 "metadata": {
  "kernelspec": {
   "display_name": ".venv",
   "language": "python",
   "name": "python3"
  },
  "language_info": {
   "codemirror_mode": {
    "name": "ipython",
    "version": 3
   },
   "file_extension": ".py",
   "mimetype": "text/x-python",
   "name": "python",
   "nbconvert_exporter": "python",
   "pygments_lexer": "ipython3",
   "version": "3.12.3"
  }
 },
 "nbformat": 4,
 "nbformat_minor": 2
}
